{
 "cells": [
  {
   "cell_type": "markdown",
   "metadata": {},
   "source": [
    "# Reasoning with TOM in TAI"
   ]
  },
  {
   "cell_type": "code",
   "execution_count": 19,
   "metadata": {
    "scrolled": true
   },
   "outputs": [
    {
     "name": "stdout",
     "output_type": "stream",
     "text": [
      "Reset done, please restart the kernel.\n"
     ]
    }
   ],
   "source": [
    "%classpath reset"
   ]
  },
  {
   "cell_type": "markdown",
   "metadata": {},
   "source": [
    "## Setup"
   ]
  },
  {
   "cell_type": "code",
   "execution_count": 1,
   "metadata": {},
   "outputs": [
    {
     "data": {
      "application/vnd.jupyter.widget-view+json": {
       "model_id": "096914c4-f73f-4a66-9d12-9ad46332d8a6",
       "version_major": 2,
       "version_minor": 0
      },
      "method": "display_data"
     },
     "metadata": {},
     "output_type": "display_data"
    }
   ],
   "source": [
    "%classpath add jar ./prover-0.998-jar-with-dependencies.jar"
   ]
  },
  {
   "cell_type": "code",
   "execution_count": 2,
   "metadata": {},
   "outputs": [
    {
     "data": {
      "text/plain": [
       "class java.util.HashSet"
      ]
     },
     "execution_count": 2,
     "metadata": {},
     "output_type": "execute_result"
    }
   ],
   "source": [
    "(import com.naveensundarg.shadow.prover.representations.formula.Formula)\n",
    "(import com.naveensundarg.shadow.prover.utils.Reader)\n",
    "(import java.util.HashSet)"
   ]
  },
  {
   "cell_type": "code",
   "execution_count": 3,
   "metadata": {},
   "outputs": [
    {
     "data": {
      "text/plain": [
       "#'beaker_clojure_shell_f2731a78-9e8c-431c-ada8-fa1bcb01a4b6/ccprover"
      ]
     },
     "execution_count": 3,
     "metadata": {},
     "output_type": "execute_result"
    }
   ],
   "source": [
    "(def ccprover (new com.naveensundarg.shadow.prover.core.ccprovers.CognitiveCalculusProver))"
   ]
  },
  {
   "cell_type": "code",
   "execution_count": 4,
   "metadata": {},
   "outputs": [
    {
     "data": {
      "text/plain": [
       ":A"
      ]
     },
     "execution_count": 4,
     "metadata": {},
     "output_type": "execute_result"
    }
   ],
   "source": [
    "(first (keys {:A 1}))"
   ]
  },
  {
   "cell_type": "code",
   "execution_count": 10,
   "metadata": {},
   "outputs": [
    {
     "data": {
      "text/plain": [
       "#'beaker_clojure_shell_f2731a78-9e8c-431c-ada8-fa1bcb01a4b6/reason"
      ]
     },
     "execution_count": 10,
     "metadata": {},
     "output_type": "execute_result"
    }
   ],
   "source": [
    "(def prover ())\n",
    "\n",
    "(defn formulae [assumptions]\n",
    "    (map (fn [key] (.setJustification (Reader/readFormulaFromString (print-str (assumptions key)))\n",
    "                                     (new com.naveensundarg.shadow.prover.core.proof.AtomicJustification (print-str key) ))) \n",
    "         (keys assumptions)))\n",
    "(defn reason [{assumptions :assumptions goal :goal}] \n",
    " (.prove ccprover (set (formulae assumptions)) (Reader/readFormulaFromString (print-str goal))))"
   ]
  },
  {
   "cell_type": "code",
   "execution_count": 11,
   "metadata": {},
   "outputs": [
    {
     "data": {
      "application/vnd.jupyter.widget-view+json": {
       "model_id": "868c4455-00dd-48b1-b837-d2e1a02dc6a3",
       "version_major": 2,
       "version_minor": 0
      },
      "method": "display_data"
     },
     "metadata": {},
     "output_type": "display_data"
    }
   ],
   "source": [
    "(formulae '{:a P :b Q})"
   ]
  },
  {
   "cell_type": "code",
   "execution_count": 12,
   "metadata": {
    "scrolled": false
   },
   "outputs": [
    {
     "data": {
      "text/plain": [
       "Optional[(:FOLFromSnark\n",
       " Givens:\n",
       "((P\n",
       "    GIVEN)\n",
       "\n",
       "(Q\n",
       "    GIVEN)) \n",
       " Goals:\n",
       "Q)]"
      ]
     },
     "execution_count": 12,
     "metadata": {},
     "output_type": "execute_result"
    }
   ],
   "source": [
    "(reason {:assumptions '{:A1 P :A2 Q}  :goal 'Q})"
   ]
  },
  {
   "cell_type": "markdown",
   "metadata": {},
   "source": [
    "## Scenarios"
   ]
  },
  {
   "cell_type": "markdown",
   "metadata": {},
   "source": [
    "Below we sketch a handful of scenarios that illustrate the necessity of theory-of-mind reasoning for building \n",
    "ambient intelligence systems. "
   ]
  },
  {
   "cell_type": "markdown",
   "metadata": {},
   "source": [
    "### Parking 1"
   ]
  },
  {
   "cell_type": "code",
   "execution_count": 8,
   "metadata": {},
   "outputs": [
    {
     "name": "stdout",
     "output_type": "stream",
     "text": [
      "CPU times: user 72 µs, sys: 20 µs, total: 92 µs \n",
      "Wall Time: 501 µs\n",
      "\n"
     ]
    },
    {
     "data": {
      "text/plain": [
       "(AssumptionsNowContainsGoal\n",
       " Givens:\n",
       "(((Perception! cara NOW (Says! carb NOW (not (holds (returned  (owner  carb)) t13))))\n",
       "    (GIVEN[]))\n",
       "\n",
       "((Knows! cara NOW (Says! carb NOW (not (holds (returned  (owner  carb)) t13))))\n",
       "    (Perception to knowledge (Perception! cara NOW (Says! carb NOW (not (holds (returned  (owner  carb)) t13))))\n",
       " [(GIVEN[])]))\n",
       "(Believes! cara NOW (not (holds (returned  (owner  carb)) t13)))\n",
       "(Believes! cara NOW (Says! carb NOW (not (holds (returned  (owner  carb)) t13))))\n",
       "\n",
       "((implies (Believes! cara NOW (Believes! carb NOW (not (holds (returned  (owner  carb)) t13)))) (Believes! cara NOW (not (holds (returned  (owner  carb)) t13))))\n",
       "    (GIVEN[]))) \n",
       " Goals:\n",
       "(Believes! cara NOW (not (holds (returned  (owner  carb)) t13))))"
      ]
     },
     "execution_count": 8,
     "metadata": {},
     "output_type": "execute_result"
    }
   ],
   "source": [
    "%time\n",
    "(.get (reason '{:assumptions \n",
    "            [;; Car A perceives Car B saying that its owner won't return on time  \n",
    "            (Perceives! cara (Says! carb (not (holds (returned (owner carb)) t13))))\n",
    "            ;; If Car A believes that Car B believes that its owner won't return at time\n",
    "            ;; then Car A believes the same too.\n",
    "            (if (Believes! cara (Believes! carb (not (holds (returned (owner carb)) t13)))) \n",
    "                (Believes! cara (not (holds (returned (owner carb)) t13))))]  \n",
    "        :goal (Believes! cara (not (holds (returned (owner carb)) t13)))}))"
   ]
  },
  {
   "cell_type": "code",
   "execution_count": null,
   "metadata": {},
   "outputs": [],
   "source": []
  }
 ],
 "metadata": {
  "kernelspec": {
   "display_name": "Clojure",
   "language": "clojure",
   "name": "clojure"
  },
  "language_info": {
   "codemirror_mode": "Clojure",
   "file_extension": ".clj",
   "mimetype": "text/x-clojure",
   "name": "Clojure",
   "nbconverter_exporter": "",
   "version": "1.9.0"
  },
  "toc": {
   "base_numbering": 1,
   "nav_menu": {},
   "number_sections": false,
   "sideBar": false,
   "skip_h1_title": false,
   "title_cell": "Table of Contents",
   "title_sidebar": "Contents",
   "toc_cell": false,
   "toc_position": {},
   "toc_section_display": false,
   "toc_window_display": false
  }
 },
 "nbformat": 4,
 "nbformat_minor": 2
}
