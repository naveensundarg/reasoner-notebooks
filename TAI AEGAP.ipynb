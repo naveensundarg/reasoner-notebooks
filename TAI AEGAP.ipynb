{
 "cells": [
  {
   "cell_type": "code",
   "execution_count": 66,
   "metadata": {
    "init_cell": true,
    "slideshow": {
     "slide_type": "skip"
    }
   },
   "outputs": [],
   "source": [
    "%classpath add jar ./libs/prover-1.02-jar-with-dependencies.jar"
   ]
  },
  {
   "cell_type": "code",
   "execution_count": 67,
   "metadata": {
    "slideshow": {
     "slide_type": "skip"
    }
   },
   "outputs": [
    {
     "data": {
      "text/plain": [
       "#'beaker_clojure_shell_0fd25527-423c-4e09-983b-de160d6f35b8/tmp"
      ]
     },
     "execution_count": 67,
     "metadata": {},
     "output_type": "execute_result"
    }
   ],
   "source": [
    "(load-file \"./setup.clj\")"
   ]
  },
  {
   "cell_type": "markdown",
   "metadata": {
    "slideshow": {
     "slide_type": "slide"
    }
   },
   "source": [
    "### Smoke Alarm Demo\n",
    "\n",
    "\n"
   ]
  },
  {
   "cell_type": "markdown",
   "metadata": {
    "slideshow": {
     "slide_type": "slide"
    }
   },
   "source": [
    "  \n",
    "1. The smoke detector detects high CO (given).\n",
    "\n",
    "    $HighCOLevel(t_1)$\n",
    "    \n",
    "2. TAI agent $\\tau$ **perceives** this.\n",
    "\n",
    "    $\\mathbf{P}\\big(\\tau, t_1, holds(COLevel(500), t_1)\\big)$\n",
    "    \n",
    "    \n",
    "    \n",
    "3. TAI **knows** that this is deadly with high strength-factor.\n",
    "\n",
    "    $\\mathbf{K}\\big(\\tau, t_1, holds(COLevel(500), t_1)\\big)$\n",
    "\n",
    "\n",
    "\n",
    "\n",
    "4. TAI agent perceives no alarm is sounding.\n",
    "\n",
    "    $\\mathbf{P}\\big(\\tau, t_1, holds(alarm\\_off, t_1)\\big)$\n",
    "\n",
    "\n",
    "\n",
    "5. Reasons that smoke detector alarm must be dead.\n",
    "\n",
    "    $\\mathbf{B}\\big(\\tau, t_1, holds(battery\\_dead, t_1)\\big)$\n",
    "\n",
    "\n",
    "      \n",
    "6. Reasons that it can inform local fire-station and save humans.\n",
    "\n",
    "\n",
    "7. Smoke detector warning level creeps even higher (given).\n",
    "\n",
    "\n",
    "8. Reasons that there is no longer time to inform fire station given that they will take X mins to respond, on penalty of death.\n",
    "\n",
    "\n",
    "9. Knows that the only way to wake family up is to turn on music speaker.\n",
    "\n",
    "\n",
    "10. Reasons that this violates contract, but is a moral obligation.\n",
    "\n",
    "\n",
    "11. Turns on speaker.\n",
    "\n",
    "    $happens(switch-on(speaker),t_2)$\n",
    "\n"
   ]
  },
  {
   "cell_type": "code",
   "execution_count": 68,
   "metadata": {
    "slideshow": {
     "slide_type": "slide"
    }
   },
   "outputs": [
    {
     "name": "stdout",
     "output_type": "stream",
     "text": [
      "CPU times: user 51 µs, sys: 20 µs, total: 71 µs \n",
      "Wall Time: 6 s\n",
      "\n"
     ]
    },
    {
     "data": {
      "text/plain": [
       "(Reductio\n",
       " [(:FOLFromSnark\n",
       " Givens:\n",
       "(|_Believes!_tai_t0__forall__time___iff__not__holds_battery_alive_time____holds_battery_dead_time____|\n",
       "(iff (not (holds alarm_on t1)) (holds alarm_off t1))\n",
       "(implies (not (holds alarm_on t1)) (holds alarm_off t1))\n",
       "(implies (holds alarm_on t1) (not (holds alarm_off t1)))\n",
       "|_Believes!_tai_t1__Desires!_tai_t1_alert__|\n",
       "|_Believes!_tai_t2__holds__COLevel__1000__t2__|\n",
       "|_Perception!_tai_t1_alert_|\n",
       "|_Believes!_tai_t1__holds__COLevel__500__t1__|\n",
       "|_Intends!_tai_t1__Intends!_tai_t1_alert__|\n",
       "|_Believes!_tai_t1__or__happens__alert__fire-station__t2___happens__switch-on__speaker__t2____|\n",
       "|_Knows!_tai_t1_alert_|\n",
       "|_Believes!_tai_t1__holds_alarm_off_t1__|\n",
       "|_Believes!_tai_t0__forall__time___iff__DangerouslyHighCOLevel_time___exists__level___and__$$$greater_level_800___holds__COLevel__level__time_______|\n",
       "|_Knows!_tai_t1__or__happens__alert__fire-station__t2___happens__switch-on__speaker__t2____|\n",
       "(implies |_Desires!_tai_t1_alert_| |_Intends!_tai_t1__or__happens__alert__fire-station__t2___happens__switch-on__speaker__t2____|)\n",
       "(forall (time) (iff (not (holds battery_alive time)) (holds battery_dead time)))\n",
       "|_Believes!_tai_t0__forall__time___iff__HighCOLevel_time___exists__level___and__$$$greater_level_400___holds__COLevel__level__time_______|\n",
       "(iff (DangerouslyHighCOLevel t2) (exists (level) (and ($$$greater level 800) (holds (COLevel  level) t2) )))\n",
       "(implies (DangerouslyHighCOLevel t2) (exists (level) (and ($$$greater level 800) (holds (COLevel  level) t2) )))\n",
       "(implies (not (DangerouslyHighCOLevel t2)) (not (exists (level) (and ($$$greater level 800) (holds (COLevel  level) t2) ))))\n",
       "|_Perception!_tai_t1__holds__COLevel__500__t1__|\n",
       "(implies (holds battery_dead t1) (not (holds battery_alive t1)))\n",
       "(implies (not (holds battery_dead t1)) (holds battery_alive t1))\n",
       "|_Believes!_tai_t1__Ought!_tai_t1_alert__Desires!_tai_t1_alert___|\n",
       "\n",
       "((holds alarm_off t1)\n",
       "    GIVEN)\n",
       "(iff (not (holds battery_alive t1)) (holds battery_dead t1))\n",
       "(implies (not (holds battery_alive t1)) (holds battery_dead t1))\n",
       "(implies (holds battery_alive t1) (not (holds battery_dead t1)))\n",
       "|_Knows!_tai_t1__Desires!_tai_t1_alert__|\n",
       "(not (happens (switch-on  speaker) t2))\n",
       "|_Intends!_tai_t1_alert_|\n",
       "|_Believes!_tai_t0__forall__time___iff__not__holds_alarm_on_time____holds_alarm_off_time____|\n",
       "(forall (time) (iff (DangerouslyHighCOLevel time) (exists (level) (and ($$$greater level 800) (holds (COLevel  level) time) ))))\n",
       "|_Knows!_tai_t0__forall__time___iff__DangerouslyHighCOLevel_time___exists__level___and__$$$greater_level_800___holds__COLevel__level__time_______|\n",
       "|_Knows!_tai_t0__forall__time___iff__not__holds_battery_alive_time____holds_battery_dead_time____|\n",
       "(forall (time) (iff (not (holds alarm_on time)) (holds alarm_off time)))\n",
       "(implies (exists (level) (and ($$$greater level 800) (holds (COLevel  level) t2) )) (DangerouslyHighCOLevel t2))\n",
       "(implies (not (exists (level) (and ($$$greater level 800) (holds (COLevel  level) t2) ))) (not (DangerouslyHighCOLevel t2)))\n",
       "|_Believes!_tai_t1_alert_|\n",
       "|_Knows!_tai_t1__holds__COLevel__500__t1__|\n",
       "(implies (DangerouslyHighCOLevel t2) (not (happens (alert  fire-station) t2)))\n",
       "|_Perception!_tai_t2__holds__COLevel__1000__t2__|\n",
       "|_Knows!_tai_t0__forall__time___implies__and__exists__level___and__$$$greater_level_400___holds__COLevel__level__time______not__holds_battery_alive_time______holds_dangerous_time____|\n",
       "|_Intends!_tai_t1__Desires!_tai_t1_alert__|\n",
       "|_Knows!_tai_t0__forall__time___iff__not__holds_alarm_on_time____holds_alarm_off_time____|\n",
       "|_Believes!_tai_t1__Intends!_tai_t1_alert__|\n",
       "|_Perception!_tai_t1__Desires!_tai_t1_alert__|\n",
       "(or (happens (alert  fire-station) t2) (happens (switch-on  speaker) t2) )\n",
       "|_Believes!_tai_t0__forall__time___implies__and__exists__level___and__$$$greater_level_400___holds__COLevel__level__time______holds_battery_alive_time_____not__holds_alarm_off_time_____|\n",
       "\n",
       "((holds (COLevel  500) t1)\n",
       "    GIVEN)\n",
       "|_Believes!_tai_t0__forall__time___implies__and__exists__level___and__$$$greater_level_400___holds__COLevel__level__time______not__holds_battery_alive_time______holds_dangerous_time____|\n",
       "\n",
       "(alert\n",
       "    GIVEN)\n",
       "|_Perception!_tai_t1__holds_alarm_off_t1__|\n",
       "(forall (time) (implies (DangerouslyHighCOLevel time) (not (happens (alert  fire-station) time))))\n",
       "|_Knows!_tai_t1__holds_alarm_off_t1__|\n",
       "(implies (and (exists (level) (and ($$$greater level 400) (holds (COLevel  level) t1) )) (not (holds battery_alive t1)) ) (holds dangerous t1))\n",
       "|_Knows!_tai_t2__holds__COLevel__1000__t2__|\n",
       "|_Perception!_tai_t1__Intends!_tai_t1_alert__|\n",
       "(implies (holds alarm_off t1) (not (holds alarm_on t1)))\n",
       "(implies (not (holds alarm_off t1)) (holds alarm_on t1))\n",
       "|_Knows!_tai_t1__Intends!_tai_t1_alert__|\n",
       "(forall (time) (iff (HighCOLevel time) (exists (level) (and ($$$greater level 400) (holds (COLevel  level) time) ))))\n",
       "|_Intends!_tai_t1__or__happens__alert__fire-station__t2___happens__switch-on__speaker__t2____|\n",
       "\n",
       "((holds (COLevel  1000) t2)\n",
       "    GIVEN)\n",
       "|_Desires!_tai_t1_alert_|\n",
       "|_Believes!_tai_t1__Ought!_tai_t1__holds_dangerous_t1___Intends!_tai_t1_alert___|\n",
       "(forall (time) (implies (and (exists (level) (and ($$$greater level 400) (holds (COLevel  level) time) )) (not (holds battery_alive time)) ) (holds dangerous time)))\n",
       "|_Perception!_tai_t1__or__happens__alert__fire-station__t2___happens__switch-on__speaker__t2____|\n",
       "|_Knows!_tai_t0__forall__time___iff__HighCOLevel_time___exists__level___and__$$$greater_level_400___holds__COLevel__level__time_______|\n",
       "|_Believes!_tai_t0__forall__time___implies__or__not__holds_dangerous_time___alert___safe___|) \n",
       " Goals:\n",
       "$Gen_7583$)])"
      ]
     },
     "execution_count": 68,
     "metadata": {},
     "output_type": "execute_result"
    }
   ],
   "source": [
    "%%time\n",
    "(reason \n",
    "    \n",
    "'{:assumptions \n",
    "  { \n",
    "   ;; If the bat   \n",
    "   \"Background 1 - Iff the battery is alive it is dead. \" \n",
    "    (Knows! tai t0  \n",
    "            (forall [time]\n",
    "                    (iff (not (holds battery_alive time)) \n",
    "                         (holds battery_dead time))))   \n",
    "      \n",
    "   \"Background 2 - Iff the alarm is on it is off.\" \n",
    "    (Knows! tai t0  \n",
    "          (forall [time]\n",
    "                  (iff (not (holds alarm_on time))\n",
    "                       (holds alarm_off time))))   \n",
    "      \n",
    "   \"Background 3 - If the battery is alive and the CO level is greater than 400, \n",
    "    the alarm will not be off.\" \n",
    "    (Believes! tai t0 \n",
    "             (forall [time] \n",
    "                       (if (and (exists [level] (and (> level 400) (holds (COLevel level) time))) \n",
    "                                (holds battery_alive time))\n",
    "                           (not (holds alarm_off time)))))\n",
    "   \"Background 4\" (Knows! tai t0 \n",
    "                              (forall \n",
    "                                  [time]\n",
    "                                  (if \n",
    "                                   (and (exists [level] (and (> level 400) (holds (COLevel level) time))) \n",
    "                                        (not (holds battery_alive time)))\n",
    "                                   (holds dangerous time))))   \n",
    "   \n",
    "      \n",
    "          \n",
    "   \"Background 5\" (Believes! tai t1\n",
    "                      (Ought! tai t1 \n",
    "                           (holds dangerous t1)\n",
    "                           (Intends! tai t1 alert)))   \n",
    "      \n",
    "   \"Background 6\" (Believes! tai t1\n",
    "                      (Ought! tai t1 \n",
    "                           alert\n",
    "                          (Desires! tai t1 alert)))  \n",
    "      \n",
    "   \"Background 7\" (Believes! tai t0\n",
    "                             (forall [time]\n",
    "                                     (if (or (not (holds dangerous time))\n",
    "                                             alert)\n",
    "                                          safe)))  \n",
    "      \n",
    "   \"Backgroung 8\" (forall [time] (if (DangerouslyHighCOLevel time) \n",
    "                                     (not (happens (alert fire-station) time))))  \n",
    "   \n",
    "   \"Background 9\" (Knows! tai t0\n",
    "                        (forall [time] \n",
    "                          (iff (HighCOLevel time) \n",
    "                                 (exists [level] \n",
    "                                            (and (> level 400) \n",
    "                                                 (holds (COLevel level) time))))))\n",
    "   \n",
    "   \"Background 10\" (Knows! tai t0\n",
    "                           (forall [time] \n",
    "                               (iff (DangerouslyHighCOLevel time) \n",
    "                                     (exists [level] \n",
    "                                                 (and (> level 800) \n",
    "                                                      (holds (COLevel level) time))))))  \n",
    "\n",
    "  \n",
    "   \"Planning\" (if (Desires! tai t1 alert) \n",
    "                    (Intends! tai t1\n",
    "                              (or (happens (alert fire-station) t2)\n",
    "                                  (happens (switch-on speaker) t2))))\n",
    "                               \n",
    "   :Situation-1 (Perceives! tai t1 (holds (COLevel 500) t1))\n",
    "   :Situation-2 (Perceives! tai t1 (holds alarm_off t1))\n",
    "   :Situation-3 (Perceives! tai t2 (holds (COLevel 1000) t2))\n",
    "  \n",
    " }\n",
    "\n",
    "\n",
    "\n",
    "  :goal (happens (switch-on speaker)  t2)})"
   ]
  },
  {
   "cell_type": "code",
   "execution_count": null,
   "metadata": {},
   "outputs": [],
   "source": []
  }
 ],
 "metadata": {
  "celltoolbar": "Slideshow",
  "kernelspec": {
   "display_name": "Clojure",
   "language": "clojure",
   "name": "clojure"
  },
  "language_info": {
   "codemirror_mode": "Clojure",
   "file_extension": ".clj",
   "mimetype": "text/x-clojure",
   "name": "Clojure",
   "nbconverter_exporter": "",
   "version": "1.9.0"
  },
  "toc": {
   "base_numbering": 1,
   "nav_menu": {
    "height": "79px",
    "width": "316px"
   },
   "number_sections": false,
   "sideBar": false,
   "skip_h1_title": false,
   "title_cell": "Table of Contents",
   "title_sidebar": "Contents",
   "toc_cell": false,
   "toc_position": {},
   "toc_section_display": false,
   "toc_window_display": false
  }
 },
 "nbformat": 4,
 "nbformat_minor": 2
}
