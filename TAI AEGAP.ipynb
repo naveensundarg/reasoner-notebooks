{
 "cells": [
  {
   "cell_type": "markdown",
   "metadata": {},
   "source": [
    "# Reasoning with TOM in TAI"
   ]
  },
  {
   "cell_type": "code",
   "execution_count": 1,
   "metadata": {
    "scrolled": true,
    "slideshow": {
     "slide_type": "skip"
    }
   },
   "outputs": [
    {
     "name": "stdout",
     "output_type": "stream",
     "text": [
      "Reset done, please restart the kernel.\n"
     ]
    }
   ],
   "source": [
    "%classpath reset"
   ]
  },
  {
   "cell_type": "markdown",
   "metadata": {
    "slideshow": {
     "slide_type": "skip"
    }
   },
   "source": [
    "## Setup"
   ]
  },
  {
   "cell_type": "code",
   "execution_count": 9,
   "metadata": {
    "init_cell": true,
    "slideshow": {
     "slide_type": "skip"
    }
   },
   "outputs": [
    {
     "data": {
      "application/vnd.jupyter.widget-view+json": {
       "model_id": "64698ce1-8a62-4a19-9c11-adff507ff27c",
       "version_major": 2,
       "version_minor": 0
      },
      "method": "display_data"
     },
     "metadata": {},
     "output_type": "display_data"
    }
   ],
   "source": [
    "%classpath add jar ./libs/prover-1.02-jar-with-dependencies.jar"
   ]
  },
  {
   "cell_type": "code",
   "execution_count": 3,
   "metadata": {
    "slideshow": {
     "slide_type": "skip"
    }
   },
   "outputs": [
    {
     "data": {
      "text/plain": [
       "class java.util.HashSet"
      ]
     },
     "execution_count": 3,
     "metadata": {},
     "output_type": "execute_result"
    }
   ],
   "source": [
    "(import com.naveensundarg.shadow.prover.representations.formula.Formula)\n",
    "(import com.naveensundarg.shadow.prover.utils.Reader)\n",
    "(import java.util.HashSet)"
   ]
  },
  {
   "cell_type": "code",
   "execution_count": 4,
   "metadata": {
    "slideshow": {
     "slide_type": "skip"
    }
   },
   "outputs": [
    {
     "data": {
      "text/plain": [
       "#'beaker_clojure_shell_d4efb03c-984e-4393-b26c-fd0441460fed/ccprover"
      ]
     },
     "execution_count": 4,
     "metadata": {},
     "output_type": "execute_result"
    }
   ],
   "source": [
    "(def ccprover (new com.naveensundarg.shadow.prover.core.ccprovers.CognitiveCalculusProver))"
   ]
  },
  {
   "cell_type": "code",
   "execution_count": 5,
   "metadata": {
    "slideshow": {
     "slide_type": "skip"
    }
   },
   "outputs": [
    {
     "data": {
      "text/plain": [
       "#'beaker_clojure_shell_d4efb03c-984e-4393-b26c-fd0441460fed/reason"
      ]
     },
     "execution_count": 5,
     "metadata": {},
     "output_type": "execute_result"
    }
   ],
   "source": [
    "(def prover ())\n",
    "(defn formulae [assumptions]\n",
    "    (map (fn [key] (.setJustification (Reader/readFormulaFromString (print-str (assumptions key)))\n",
    "                                     (new com.naveensundarg.shadow.prover.core.proof.AtomicJustification (print-str key) ))) \n",
    "         (keys assumptions)))\n",
    "(defn reason [{assumptions :assumptions goal :goal}] \n",
    " (let [ans (.prove ccprover (set (formulae assumptions)) (Reader/readFormulaFromString (print-str goal)))]\n",
    "     (if (.isPresent ans)\n",
    "         (.get ans)\n",
    "         \"NO PROOF FOUND\")))   \n",
    " \n"
   ]
  },
  {
   "cell_type": "code",
   "execution_count": 6,
   "metadata": {
    "scrolled": false,
    "slideshow": {
     "slide_type": "skip"
    }
   },
   "outputs": [
    {
     "name": "stdout",
     "output_type": "stream",
     "text": [
      "; Running SNARK from /Users/naveensundarg/projects/reasoner-notebooks/snark-20120808r02/snark-system.lisp in Armed Bear Common Lisp 1.0.1-svn-13751 on Naveens-MacBook-Pro.local at 2018-07-13T10:40:54\n"
     ]
    },
    {
     "data": {
      "text/plain": [
       "(:FOLFromSnark\n",
       " Givens:\n",
       "((P\n",
       "    :A1)\n",
       "\n",
       "(Q\n",
       "    :A2)) \n",
       " Goals:\n",
       "Q)"
      ]
     },
     "execution_count": 6,
     "metadata": {},
     "output_type": "execute_result"
    }
   ],
   "source": [
    "(reason {:assumptions '{:A1  P :A2 Q}  :goal 'Q})"
   ]
  },
  {
   "cell_type": "markdown",
   "metadata": {
    "slideshow": {
     "slide_type": "slide"
    }
   },
   "source": [
    "## Scenarios"
   ]
  },
  {
   "cell_type": "markdown",
   "metadata": {
    "slideshow": {
     "slide_type": "subslide"
    }
   },
   "source": [
    "Below we sketch a handful of scenarios that illustrate the necessity of theory-of-mind reasoning for building \n",
    "ambient intelligence systems. "
   ]
  },
  {
   "cell_type": "markdown",
   "metadata": {
    "slideshow": {
     "slide_type": "slide"
    }
   },
   "source": [
    "### Smoke Alarm Demo\n",
    "\n",
    "\n",
    "\n",
    "1. The smoke detector detects high CO (given).\n",
    "\n",
    "    $holds(high\\_co, now)$\n",
    "    \n",
    "    \n",
    "    \n",
    "2. TAI agent $\\tau$ **perceives** this.\n",
    "\n",
    "    $\\mathbf{P}\\big(\\tau, now, holds(high\\_co)\\big)$\n",
    "    \n",
    "    \n",
    "    \n",
    "3. TAI **knows** that this is deadly with high strength-factor.\n",
    "\n",
    "    $\\mathbf{K}\\big(\\tau, now, holds(high\\_co)\\big)$\n",
    "\n",
    "\n",
    "\n",
    "4. TAI agent perceives no alarm is sounding.\n",
    "\n",
    "    $\\mathbf{P}\\big(\\tau, now, holds(alarm\\_off, now)\\big)$\n",
    "\n",
    "\n",
    "\n",
    "5. Reasons that smoke detector alarm must be dead.\n",
    "6. Reasons that it can inform local fire-station and save humans.\n",
    "7. Smoke detector warning level creeps even higher (given).\n",
    "8. Reasons that there is no longer time to inform fire station given that they will take X mins to respond, on penalty of death.\n",
    "9. Knows that the only way to wake family up is to turn on music speaker.\n",
    "10. Reasons that this violates contract, but is a moral obligation.\n",
    "11. Turns on speaker.\n"
   ]
  },
  {
   "cell_type": "code",
   "execution_count": 7,
   "metadata": {
    "slideshow": {
     "slide_type": "slide"
    }
   },
   "outputs": [
    {
     "name": "stdout",
     "output_type": "stream",
     "text": [
      "CPU times: user 113 µs, sys: 833 µs, total: 946 µs \n",
      "Wall Time: 2 ms\n",
      "\n"
     ]
    },
    {
     "data": {
      "text/plain": [
       "(AssumptionsNowContainsGoal\n",
       " Givens:\n",
       "(((Believes! tai z (Ought! tai z alert (Believes! tai z alert)))\n",
       "    Background 6)\n",
       "(implies (and (holds high_co z) (not (holds battery_alive z)) ) (holds dangerous z))\n",
       "\n",
       "((iff (not (holds battery_alive z)) (holds battery_dead z))\n",
       "    GIVEN)\n",
       "\n",
       "((Perception! tai t1 (holds alarm_off z))\n",
       "    :S2)\n",
       "\n",
       "((Knows! tai t1 (holds alarm_off z))\n",
       "    (Perception to knowledge (Perception! tai t1 (holds alarm_off z))\n",
       " [:S2]))\n",
       "\n",
       "((Believes! tai t1 (holds alarm_off z))\n",
       "    GIVEN)\n",
       "\n",
       "((iff (not (holds alarm_on z)) (holds alarm_off z))\n",
       "    GIVEN)\n",
       "\n",
       "((Knows! tai t0 (iff (not (holds battery_alive z)) (holds battery_dead z)))\n",
       "    Background 1)\n",
       "\n",
       "((Knows! tai t0 (iff (not (holds alarm_on z)) (holds alarm_off z)))\n",
       "    Background 2)\n",
       "\n",
       "((Believes! tai t0 (iff (not (holds battery_alive z)) (holds battery_dead z)))\n",
       "    GIVEN)\n",
       "\n",
       "((Believes! tai t0 (iff (not (holds alarm_on z)) (holds alarm_off z)))\n",
       "    GIVEN)\n",
       "\n",
       "((Knows! tai t0 (forall (time) (implies (and (holds high_co time) (not (holds battery_alive time)) ) (holds dangerous time))))\n",
       "    Background 4)\n",
       "\n",
       "((forall (time) (implies (and (holds high_co time) (not (holds battery_alive time)) ) (holds dangerous time)))\n",
       "    GIVEN)\n",
       "\n",
       "((Believes! tai t0 (forall (time) (implies (and (holds high_co time) (not (holds battery_alive time)) ) (holds dangerous time))))\n",
       "    GIVEN)\n",
       "\n",
       "((Believes! tai z alert)\n",
       "    GIVEN)\n",
       "\n",
       "((Intends! tai z (Believes! tai z alert))\n",
       "    GIVEN)\n",
       "\n",
       "((Perception! tai t1 (holds high_co z))\n",
       "    :S1)\n",
       "\n",
       "((Believes! tai t0 (forall (time) (implies (and (holds high_co time) (holds battery_alive time) ) (not (holds alarm_off time)))))\n",
       "    Background 3)\n",
       "\n",
       "((Knows! tai t1 (holds high_co z))\n",
       "    (Perception to knowledge (Perception! tai t1 (holds high_co z))\n",
       " [:S1]))\n",
       "\n",
       "((Believes! tai t1 (holds high_co z))\n",
       "    GIVEN)\n",
       "\n",
       "((Believes! tai z (Ought! tai z (holds dangerous z) (Believes! tai z alert)))\n",
       "    Background 5)) \n",
       " Goals:\n",
       "(Believes! tai z alert))"
      ]
     },
     "execution_count": 7,
     "metadata": {},
     "output_type": "execute_result"
    }
   ],
   "source": [
    "%time\n",
    "(reason \n",
    "    \n",
    "'{:assumptions \n",
    "  { \n",
    "   \"Background 1\" (Knows! tai t0  (iff (not (holds battery_alive z)) (holds battery_dead z)))   \n",
    "   \"Background 2\" (Knows! tai t0  (iff (not (holds alarm_on z)) (holds alarm_off z)))   \n",
    "   \"Background 3\" (Believes! tai t0 (forall [time] \n",
    "                           (if (and (holds high_co time)\n",
    "                                    (holds battery_alive time))\n",
    "                               (not (holds alarm_off time)))))\n",
    "   \"Background 4\" (Knows! tai t0 \n",
    "                              (forall [time](if  (and (holds high_co time) \n",
    "                                                     (not (holds battery_alive time)))\n",
    "                                                (holds dangerous time))))   \n",
    "   \n",
    "          \n",
    "   \"Background 5\" (Believes! tai z\n",
    "                      (Ought! tai z \n",
    "                           (holds dangerous z)\n",
    "                          (Believes! tai z alert)))   \n",
    "   \"Background 6\" (Believes! tai z\n",
    "                      (Ought! tai z \n",
    "                           alert\n",
    "                          (Believes! tai z alert)))     \n",
    "    \n",
    "   :S1 (Perceives! tai t1 (holds high_co z))\n",
    "   :S2 (Perceives! tai t1 (holds alarm_off z))\n",
    "   }\n",
    "\n",
    "\n",
    "\n",
    "  :goal (Believes! tai z alert)})"
   ]
  },
  {
   "cell_type": "code",
   "execution_count": 9,
   "metadata": {},
   "outputs": [
    {
     "data": {
      "text/plain": [
       "(:FOLFromSnark\n",
       " Givens:\n",
       "() \n",
       " Goals:\n",
       "($$$less ($$sum  2 3) 10))"
      ]
     },
     "execution_count": 9,
     "metadata": {},
     "output_type": "execute_result"
    }
   ],
   "source": [
    "(reason '{:assumptions {} :goal (< (+ 2 3) 10)})"
   ]
  },
  {
   "cell_type": "code",
   "execution_count": null,
   "metadata": {},
   "outputs": [],
   "source": []
  }
 ],
 "metadata": {
  "celltoolbar": "Slideshow",
  "kernelspec": {
   "display_name": "Clojure",
   "language": "clojure",
   "name": "clojure"
  },
  "language_info": {
   "codemirror_mode": "Clojure",
   "file_extension": ".clj",
   "mimetype": "text/x-clojure",
   "name": "Clojure",
   "nbconverter_exporter": "",
   "version": "1.9.0"
  },
  "toc": {
   "base_numbering": 1,
   "nav_menu": {
    "height": "79px",
    "width": "316px"
   },
   "number_sections": false,
   "sideBar": false,
   "skip_h1_title": false,
   "title_cell": "Table of Contents",
   "title_sidebar": "Contents",
   "toc_cell": false,
   "toc_position": {},
   "toc_section_display": false,
   "toc_window_display": false
  }
 },
 "nbformat": 4,
 "nbformat_minor": 2
}
